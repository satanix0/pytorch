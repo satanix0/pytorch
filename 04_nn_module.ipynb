{
 "cells": [
  {
   "cell_type": "code",
   "execution_count": 34,
   "id": "6d9a272b",
   "metadata": {},
   "outputs": [],
   "source": [
    "import torch\n",
    "import torch.nn as nn"
   ]
  },
  {
   "cell_type": "code",
   "execution_count": 35,
   "id": "8605b709",
   "metadata": {},
   "outputs": [],
   "source": [
    "class Model(nn.Module):\n",
    "    def __init__(self, num_features):\n",
    "        super().__init__()\n",
    "        self.linear = nn.Linear(in_features=num_features, out_features=1)\n",
    "        self.activation = nn.Sigmoid()\n",
    "\n",
    "    def forward(self, features):\n",
    "        out = self.linear(features)\n",
    "        out = self.activation(out)\n",
    "        return out\n",
    "    "
   ]
  },
  {
   "cell_type": "code",
   "execution_count": 36,
   "id": "da765888",
   "metadata": {},
   "outputs": [
    {
     "data": {
      "text/plain": [
       "tensor([[0.9757, 0.6865, 0.7854, 0.5189, 0.1882],\n",
       "        [0.2535, 0.8924, 0.1090, 0.6477, 0.1291],\n",
       "        [0.1077, 0.4626, 0.2581, 0.2629, 0.9093],\n",
       "        [0.9393, 0.3172, 0.7974, 0.2409, 0.0976],\n",
       "        [0.4650, 0.8549, 0.0154, 0.6476, 0.0614],\n",
       "        [0.7850, 0.1555, 0.9757, 0.0925, 0.2443],\n",
       "        [0.4348, 0.9866, 0.2958, 0.0184, 0.3460],\n",
       "        [0.3101, 0.4739, 0.8107, 0.9994, 0.5760],\n",
       "        [0.1760, 0.4787, 0.6213, 0.4269, 0.7739],\n",
       "        [0.8353, 0.6188, 0.7342, 0.7033, 0.2109]])"
      ]
     },
     "execution_count": 36,
     "metadata": {},
     "output_type": "execute_result"
    }
   ],
   "source": [
    "# creating dataset\n",
    "\n",
    "features = torch.rand(size=(10,5))\n",
    "features"
   ]
  },
  {
   "cell_type": "code",
   "execution_count": 37,
   "id": "45d5fb53",
   "metadata": {},
   "outputs": [
    {
     "data": {
      "text/plain": [
       "tensor([[0.4784],\n",
       "        [0.4916],\n",
       "        [0.5044],\n",
       "        [0.4477],\n",
       "        [0.4764],\n",
       "        [0.4522],\n",
       "        [0.5397],\n",
       "        [0.4694],\n",
       "        [0.5017],\n",
       "        [0.4662]], grad_fn=<SigmoidBackward0>)"
      ]
     },
     "execution_count": 37,
     "metadata": {},
     "output_type": "execute_result"
    }
   ],
   "source": [
    "model = Model(num_features=features.shape[1])\n",
    "model(features)"
   ]
  },
  {
   "cell_type": "code",
   "execution_count": 38,
   "id": "2d4c4cc4",
   "metadata": {},
   "outputs": [
    {
     "data": {
      "text/plain": [
       "Parameter containing:\n",
       "tensor([[-0.1029,  0.4365,  0.1158, -0.1748,  0.1780]], requires_grad=True)"
      ]
     },
     "execution_count": 38,
     "metadata": {},
     "output_type": "execute_result"
    }
   ],
   "source": [
    "model.linear.weight"
   ]
  },
  {
   "cell_type": "code",
   "execution_count": 39,
   "id": "886b04c8",
   "metadata": {},
   "outputs": [
    {
     "data": {
      "text/plain": [
       "==========================================================================================\n",
       "Layer (type:depth-idx)                   Output Shape              Param #\n",
       "==========================================================================================\n",
       "Model                                    [10, 1]                   --\n",
       "├─Linear: 1-1                            [10, 1]                   6\n",
       "├─Sigmoid: 1-2                           [10, 1]                   --\n",
       "==========================================================================================\n",
       "Total params: 6\n",
       "Trainable params: 6\n",
       "Non-trainable params: 0\n",
       "Total mult-adds (Units.MEGABYTES): 0.00\n",
       "==========================================================================================\n",
       "Input size (MB): 0.00\n",
       "Forward/backward pass size (MB): 0.00\n",
       "Params size (MB): 0.00\n",
       "Estimated Total Size (MB): 0.00\n",
       "=========================================================================================="
      ]
     },
     "execution_count": 39,
     "metadata": {},
     "output_type": "execute_result"
    }
   ],
   "source": [
    "# visualizing the model\n",
    "from torchinfo import summary\n",
    "\n",
    "summary(model,input_size=(10,5))"
   ]
  },
  {
   "cell_type": "markdown",
   "id": "c363b256",
   "metadata": {},
   "source": [
    "### NN with hidden layer"
   ]
  },
  {
   "cell_type": "code",
   "execution_count": 40,
   "id": "a9a1a5ea",
   "metadata": {},
   "outputs": [],
   "source": [
    "class ModelHiddenLayer(nn.Module):\n",
    "    def __init__(self, num_features):\n",
    "        super().__init__()\n",
    "        self.linear1 = nn.Linear(in_features=num_features, out_features=3)\n",
    "        self.relu = nn.ReLU()\n",
    "        self.linear2 = nn.Linear(in_features=3, out_features=1)\n",
    "        self.sigmoid = nn.Sigmoid()\n",
    "\n",
    "    def forward(self, features):\n",
    "        out = self.linear1(features)\n",
    "        out = self.relu(out)\n",
    "        out = self.linear2(out)\n",
    "        out = self.sigmoid(out)\n",
    "        return out"
   ]
  },
  {
   "cell_type": "code",
   "execution_count": 41,
   "id": "478ae87c",
   "metadata": {},
   "outputs": [
    {
     "data": {
      "text/plain": [
       "tensor([[0.0558, 0.5933, 0.6884, 0.8326, 0.9219],\n",
       "        [0.2470, 0.9866, 0.1067, 0.6396, 0.8304],\n",
       "        [0.9635, 0.3628, 0.3881, 0.1085, 0.7821],\n",
       "        [0.1633, 0.2912, 0.9241, 0.1626, 0.4685],\n",
       "        [0.9463, 0.4571, 0.7873, 0.3149, 0.0678],\n",
       "        [0.5931, 0.0094, 0.4976, 0.0324, 0.4265],\n",
       "        [0.3835, 0.3181, 0.7072, 0.2922, 0.5401],\n",
       "        [0.3375, 0.2142, 0.2097, 0.3621, 0.2863],\n",
       "        [0.8095, 0.9285, 0.4627, 0.3296, 0.5347],\n",
       "        [0.0403, 0.6732, 0.8091, 0.9054, 0.7117]])"
      ]
     },
     "execution_count": 41,
     "metadata": {},
     "output_type": "execute_result"
    }
   ],
   "source": [
    "features = torch.rand(size=(10,5))\n",
    "features"
   ]
  },
  {
   "cell_type": "code",
   "execution_count": 42,
   "id": "0741fc64",
   "metadata": {},
   "outputs": [
    {
     "data": {
      "text/plain": [
       "tensor([[0.3456],\n",
       "        [0.3241],\n",
       "        [0.3936],\n",
       "        [0.3978],\n",
       "        [0.4145],\n",
       "        [0.4148],\n",
       "        [0.3794],\n",
       "        [0.3938],\n",
       "        [0.3682],\n",
       "        [0.3464]], grad_fn=<SigmoidBackward0>)"
      ]
     },
     "execution_count": 42,
     "metadata": {},
     "output_type": "execute_result"
    }
   ],
   "source": [
    "model = ModelHiddenLayer(num_features=5)\n",
    "model(features)"
   ]
  },
  {
   "cell_type": "code",
   "execution_count": 43,
   "id": "db784419",
   "metadata": {},
   "outputs": [
    {
     "data": {
      "text/plain": [
       "Parameter containing:\n",
       "tensor([[ 0.5588, -0.4696, -0.2767]], requires_grad=True)"
      ]
     },
     "execution_count": 43,
     "metadata": {},
     "output_type": "execute_result"
    }
   ],
   "source": [
    "model.linear2.weight"
   ]
  },
  {
   "cell_type": "code",
   "execution_count": 44,
   "id": "258b33a8",
   "metadata": {},
   "outputs": [
    {
     "data": {
      "text/plain": [
       "==========================================================================================\n",
       "Layer (type:depth-idx)                   Output Shape              Param #\n",
       "==========================================================================================\n",
       "ModelHiddenLayer                         [10, 1]                   --\n",
       "├─Linear: 1-1                            [10, 3]                   18\n",
       "├─ReLU: 1-2                              [10, 3]                   --\n",
       "├─Linear: 1-3                            [10, 1]                   4\n",
       "├─Sigmoid: 1-4                           [10, 1]                   --\n",
       "==========================================================================================\n",
       "Total params: 22\n",
       "Trainable params: 22\n",
       "Non-trainable params: 0\n",
       "Total mult-adds (Units.MEGABYTES): 0.00\n",
       "==========================================================================================\n",
       "Input size (MB): 0.00\n",
       "Forward/backward pass size (MB): 0.00\n",
       "Params size (MB): 0.00\n",
       "Estimated Total Size (MB): 0.00\n",
       "=========================================================================================="
      ]
     },
     "execution_count": 44,
     "metadata": {},
     "output_type": "execute_result"
    }
   ],
   "source": [
    "summary(model,input_size=(10,5))"
   ]
  },
  {
   "cell_type": "markdown",
   "id": "188cdb80",
   "metadata": {},
   "source": [
    "#### Sequential Container"
   ]
  },
  {
   "cell_type": "code",
   "execution_count": 45,
   "id": "64be5d60",
   "metadata": {},
   "outputs": [],
   "source": [
    "class ModelSeq(nn.Module):\n",
    "    def __init__(self, num_features):\n",
    "        super().__init__()\n",
    "\n",
    "        self.network = nn.Sequential(\n",
    "            nn.Linear(num_features, 3),\n",
    "            nn.ReLU(),\n",
    "            nn.Linear(3, 1),\n",
    "            nn.Sigmoid()\n",
    "        )\n",
    "\n",
    "    def forward(self, features):\n",
    "        out = self.network(features)\n",
    "        return out"
   ]
  },
  {
   "cell_type": "code",
   "execution_count": 46,
   "id": "09bb7ab2",
   "metadata": {},
   "outputs": [
    {
     "data": {
      "text/plain": [
       "tensor([[0.4561],\n",
       "        [0.4551],\n",
       "        [0.4669],\n",
       "        [0.4670],\n",
       "        [0.4669],\n",
       "        [0.4674],\n",
       "        [0.4667],\n",
       "        [0.4676],\n",
       "        [0.4673],\n",
       "        [0.4524]], grad_fn=<SigmoidBackward0>)"
      ]
     },
     "execution_count": 46,
     "metadata": {},
     "output_type": "execute_result"
    }
   ],
   "source": [
    "model = ModelSeq(num_features=5)\n",
    "model(features)"
   ]
  },
  {
   "cell_type": "code",
   "execution_count": 47,
   "id": "e735b4d6",
   "metadata": {},
   "outputs": [
    {
     "data": {
      "text/plain": [
       "Parameter containing:\n",
       "tensor([[-0.4186,  0.4018,  0.0753, -0.0006,  0.0274],\n",
       "        [ 0.3066, -0.3659, -0.2936, -0.2116,  0.1025],\n",
       "        [ 0.1330, -0.1656,  0.2509,  0.3997,  0.2399]], requires_grad=True)"
      ]
     },
     "execution_count": 47,
     "metadata": {},
     "output_type": "execute_result"
    }
   ],
   "source": [
    "model.network[0].weight"
   ]
  },
  {
   "cell_type": "code",
   "execution_count": 48,
   "id": "c7417d20",
   "metadata": {},
   "outputs": [
    {
     "data": {
      "text/plain": [
       "==========================================================================================\n",
       "Layer (type:depth-idx)                   Output Shape              Param #\n",
       "==========================================================================================\n",
       "ModelSeq                                 [10, 1]                   --\n",
       "├─Sequential: 1-1                        [10, 1]                   --\n",
       "│    └─Linear: 2-1                       [10, 3]                   18\n",
       "│    └─ReLU: 2-2                         [10, 3]                   --\n",
       "│    └─Linear: 2-3                       [10, 1]                   4\n",
       "│    └─Sigmoid: 2-4                      [10, 1]                   --\n",
       "==========================================================================================\n",
       "Total params: 22\n",
       "Trainable params: 22\n",
       "Non-trainable params: 0\n",
       "Total mult-adds (Units.MEGABYTES): 0.00\n",
       "==========================================================================================\n",
       "Input size (MB): 0.00\n",
       "Forward/backward pass size (MB): 0.00\n",
       "Params size (MB): 0.00\n",
       "Estimated Total Size (MB): 0.00\n",
       "=========================================================================================="
      ]
     },
     "execution_count": 48,
     "metadata": {},
     "output_type": "execute_result"
    }
   ],
   "source": [
    "summary(model,input_size=(10,5))"
   ]
  }
 ],
 "metadata": {
  "kernelspec": {
   "display_name": "pytorch",
   "language": "python",
   "name": "python3"
  },
  "language_info": {
   "codemirror_mode": {
    "name": "ipython",
    "version": 3
   },
   "file_extension": ".py",
   "mimetype": "text/x-python",
   "name": "python",
   "nbconvert_exporter": "python",
   "pygments_lexer": "ipython3",
   "version": "3.13.3"
  }
 },
 "nbformat": 4,
 "nbformat_minor": 5
}
