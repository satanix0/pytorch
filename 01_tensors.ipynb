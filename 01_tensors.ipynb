{
 "cells": [
  {
   "cell_type": "markdown",
   "id": "f2580cc1",
   "metadata": {},
   "source": [
    "## Creating a Tensor"
   ]
  },
  {
   "cell_type": "code",
   "execution_count": 1,
   "id": "af6074b2",
   "metadata": {},
   "outputs": [],
   "source": [
    "import torch"
   ]
  },
  {
   "cell_type": "code",
   "execution_count": 2,
   "id": "fd0517a6",
   "metadata": {},
   "outputs": [
    {
     "data": {
      "text/plain": [
       "tensor([[1.0812e+17, 9.7110e-43, 0.0000e+00],\n",
       "        [0.0000e+00, 0.0000e+00, 0.0000e+00]])"
      ]
     },
     "execution_count": 2,
     "metadata": {},
     "output_type": "execute_result"
    }
   ],
   "source": [
    "a=torch.empty(2,3)\n",
    "a"
   ]
  },
  {
   "cell_type": "code",
   "execution_count": 3,
   "id": "0c282617",
   "metadata": {},
   "outputs": [
    {
     "data": {
      "text/plain": [
       "torch.Tensor"
      ]
     },
     "execution_count": 3,
     "metadata": {},
     "output_type": "execute_result"
    }
   ],
   "source": [
    "type(a)"
   ]
  },
  {
   "cell_type": "code",
   "execution_count": 4,
   "id": "1689c1bf",
   "metadata": {},
   "outputs": [
    {
     "data": {
      "text/plain": [
       "tensor([[0., 0., 0.],\n",
       "        [0., 0., 0.]])"
      ]
     },
     "execution_count": 4,
     "metadata": {},
     "output_type": "execute_result"
    }
   ],
   "source": [
    "torch.zeros(2, 3)"
   ]
  },
  {
   "cell_type": "code",
   "execution_count": 5,
   "id": "967d91ef",
   "metadata": {},
   "outputs": [
    {
     "data": {
      "text/plain": [
       "tensor([[1., 1., 1.],\n",
       "        [1., 1., 1.]])"
      ]
     },
     "execution_count": 5,
     "metadata": {},
     "output_type": "execute_result"
    }
   ],
   "source": [
    "torch.ones(2, 3)"
   ]
  },
  {
   "cell_type": "code",
   "execution_count": 6,
   "id": "52465a40",
   "metadata": {},
   "outputs": [
    {
     "data": {
      "text/plain": [
       "tensor([[0.2163, 0.0743, 0.5364],\n",
       "        [0.0202, 0.3868, 0.7578]])"
      ]
     },
     "execution_count": 6,
     "metadata": {},
     "output_type": "execute_result"
    }
   ],
   "source": [
    "torch.rand(2, 3)"
   ]
  },
  {
   "cell_type": "code",
   "execution_count": 7,
   "id": "4c19802b",
   "metadata": {},
   "outputs": [
    {
     "data": {
      "text/plain": [
       "tensor([[ 1,  2, 30],\n",
       "        [ 2,  3, 54]])"
      ]
     },
     "execution_count": 7,
     "metadata": {},
     "output_type": "execute_result"
    }
   ],
   "source": [
    "torch.tensor([[1,2,30],[2,3,54]])"
   ]
  },
  {
   "cell_type": "code",
   "execution_count": 8,
   "id": "45453a00",
   "metadata": {},
   "outputs": [
    {
     "data": {
      "text/plain": [
       "tensor([1, 3, 5, 7, 9])"
      ]
     },
     "execution_count": 8,
     "metadata": {},
     "output_type": "execute_result"
    }
   ],
   "source": [
    "torch.arange(1, 10, 2)"
   ]
  },
  {
   "cell_type": "code",
   "execution_count": 9,
   "id": "20fdbc95",
   "metadata": {},
   "outputs": [
    {
     "data": {
      "text/plain": [
       "tensor([ 1.0000,  3.2500,  5.5000,  7.7500, 10.0000])"
      ]
     },
     "execution_count": 9,
     "metadata": {},
     "output_type": "execute_result"
    }
   ],
   "source": [
    "torch.linspace(1, 10, 5)"
   ]
  },
  {
   "cell_type": "code",
   "execution_count": 10,
   "id": "427f8d92",
   "metadata": {},
   "outputs": [
    {
     "data": {
      "text/plain": [
       "tensor([[1., 0., 0.],\n",
       "        [0., 1., 0.],\n",
       "        [0., 0., 1.]])"
      ]
     },
     "execution_count": 10,
     "metadata": {},
     "output_type": "execute_result"
    }
   ],
   "source": [
    "torch.eye(3)"
   ]
  },
  {
   "cell_type": "code",
   "execution_count": 11,
   "id": "4a2a69fd",
   "metadata": {},
   "outputs": [
    {
     "data": {
      "text/plain": [
       "tensor([[5, 5, 5],\n",
       "        [5, 5, 5],\n",
       "        [5, 5, 5],\n",
       "        [5, 5, 5]])"
      ]
     },
     "execution_count": 11,
     "metadata": {},
     "output_type": "execute_result"
    }
   ],
   "source": [
    "torch.full((4, 3), 5)"
   ]
  },
  {
   "cell_type": "markdown",
   "id": "11c0e949",
   "metadata": {},
   "source": [
    "### Tensor Shapes"
   ]
  },
  {
   "cell_type": "code",
   "execution_count": 12,
   "id": "c3ae119a",
   "metadata": {},
   "outputs": [
    {
     "data": {
      "text/plain": [
       "torch.Size([2, 3])"
      ]
     },
     "execution_count": 12,
     "metadata": {},
     "output_type": "execute_result"
    }
   ],
   "source": [
    "t = torch.tensor([[1,2,30],[2,3,54]])\n",
    "t.shape"
   ]
  },
  {
   "cell_type": "code",
   "execution_count": 13,
   "id": "817c0670",
   "metadata": {},
   "outputs": [
    {
     "data": {
      "text/plain": [
       "tensor([[0, 0, 0],\n",
       "        [0, 0, 0]])"
      ]
     },
     "execution_count": 13,
     "metadata": {},
     "output_type": "execute_result"
    }
   ],
   "source": [
    "torch.empty_like(t) # similarly torch.zeros_like, torch.ones_like"
   ]
  },
  {
   "cell_type": "code",
   "execution_count": null,
   "id": "a31de113",
   "metadata": {},
   "outputs": [],
   "source": []
  },
  {
   "cell_type": "markdown",
   "id": "60dfdfa3",
   "metadata": {},
   "source": [
    "## Tensor Data Types"
   ]
  },
  {
   "cell_type": "code",
   "execution_count": 14,
   "id": "f37395ae",
   "metadata": {},
   "outputs": [
    {
     "data": {
      "text/plain": [
       "torch.int64"
      ]
     },
     "execution_count": 14,
     "metadata": {},
     "output_type": "execute_result"
    }
   ],
   "source": [
    "t.dtype"
   ]
  },
  {
   "cell_type": "code",
   "execution_count": 15,
   "id": "7344f6e7",
   "metadata": {},
   "outputs": [
    {
     "data": {
      "text/plain": [
       "tensor([[ 1,  2, 30],\n",
       "        [ 2,  3, 54]])"
      ]
     },
     "execution_count": 15,
     "metadata": {},
     "output_type": "execute_result"
    }
   ],
   "source": [
    "tx = torch.tensor([[1.3,2.4,30.32],[2,3,54]], dtype=torch.int64)\n",
    "tx"
   ]
  },
  {
   "cell_type": "code",
   "execution_count": 16,
   "id": "29264371",
   "metadata": {},
   "outputs": [
    {
     "data": {
      "text/plain": [
       "tensor([[0.7076, 0.7892, 0.3169],\n",
       "        [0.3980, 0.5318, 0.3739]])"
      ]
     },
     "execution_count": 16,
     "metadata": {},
     "output_type": "execute_result"
    }
   ],
   "source": [
    "torch.rand_like(t, dtype=torch.float)"
   ]
  },
  {
   "cell_type": "markdown",
   "id": "e9fdfd44",
   "metadata": {},
   "source": [
    "## Mathematical operations"
   ]
  },
  {
   "cell_type": "markdown",
   "id": "944406d6",
   "metadata": {},
   "source": [
    "#### 1. Basic Operations"
   ]
  },
  {
   "cell_type": "code",
   "execution_count": 17,
   "id": "5b335740",
   "metadata": {},
   "outputs": [
    {
     "data": {
      "text/plain": [
       "tensor([[0.4252, 0.3578, 0.8070],\n",
       "        [0.7279, 0.6210, 0.9420]])"
      ]
     },
     "execution_count": 17,
     "metadata": {},
     "output_type": "execute_result"
    }
   ],
   "source": [
    "x = torch.rand(2, 3)\n",
    "x"
   ]
  },
  {
   "cell_type": "code",
   "execution_count": 18,
   "id": "9e815bec",
   "metadata": {},
   "outputs": [
    {
     "name": "stdout",
     "output_type": "stream",
     "text": [
      "tensor([[2.4252, 2.3578, 2.8070],\n",
      "        [2.7279, 2.6210, 2.9420]])\n",
      "tensor([[0.0425, 0.0358, 0.0807],\n",
      "        [0.0728, 0.0621, 0.0942]])\n",
      "tensor([[0.4252, 0.3578, 0.8070],\n",
      "        [0.7279, 0.6210, 0.9420]])\n",
      "tensor([[0.1808, 0.1280, 0.6513],\n",
      "        [0.5299, 0.3856, 0.8874]])\n"
     ]
    }
   ],
   "source": [
    "# addition\n",
    "print(x + 2)\n",
    "# Division\n",
    "print(x/10)\n",
    "# MOD\n",
    "print(x % 2)\n",
    "# exponent\n",
    "print(x ** 2)"
   ]
  },
  {
   "cell_type": "markdown",
   "id": "b019ef73",
   "metadata": {},
   "source": [
    "#### 2. Item-wise operation for 2 Tensors\n",
    "- element wise mathematical operation i.e addion etc.\n",
    "- can apply abs, round, floor, ceil, trunc, exp, sqrt, log, log10, sin, cos, tan"
   ]
  },
  {
   "cell_type": "code",
   "execution_count": 19,
   "id": "d9a13de4",
   "metadata": {},
   "outputs": [
    {
     "name": "stdout",
     "output_type": "stream",
     "text": [
      "tensor([[0.6651, 0.3059, 0.9127],\n",
      "        [0.5853, 0.7186, 0.5092]])\n",
      "tensor([[0.9453, 0.6131, 0.9117],\n",
      "        [0.9173, 0.6613, 0.9104]])\n"
     ]
    }
   ],
   "source": [
    "a = torch.rand(2,3)\n",
    "b = torch.rand(2,3)\n",
    "\n",
    "print(a)\n",
    "print(b)"
   ]
  },
  {
   "cell_type": "code",
   "execution_count": 20,
   "id": "aea79c8d",
   "metadata": {},
   "outputs": [
    {
     "name": "stdout",
     "output_type": "stream",
     "text": [
      "tensor([[1.6104, 0.9190, 1.8245],\n",
      "        [1.5026, 1.3798, 1.4196]])\n"
     ]
    }
   ],
   "source": [
    "# addition\n",
    "print(a + b)"
   ]
  },
  {
   "cell_type": "code",
   "execution_count": null,
   "id": "0a197237",
   "metadata": {},
   "outputs": [
    {
     "data": {
      "text/plain": [
       "tensor([[1, 2, 3],\n",
       "        [4, 5, 6]])"
      ]
     },
     "execution_count": 21,
     "metadata": {},
     "output_type": "execute_result"
    }
   ],
   "source": [
    "c = torch.tensor([[1, -2, 3], [4, 5, -6]])\n",
    "torch.abs(c)"
   ]
  },
  {
   "cell_type": "code",
   "execution_count": 22,
   "id": "6428c78c",
   "metadata": {},
   "outputs": [
    {
     "data": {
      "text/plain": [
       "tensor([1.5000, 2.4000, 3.7000, 3.7000])"
      ]
     },
     "execution_count": 22,
     "metadata": {},
     "output_type": "execute_result"
    }
   ],
   "source": [
    "d = torch.tensor([1.5, 2.4, 3.78, 5.32])\n",
    "torch.clamp(d, min=1.5, max=3.7) # clamp the values between 1.5 and 3.5"
   ]
  },
  {
   "cell_type": "markdown",
   "id": "89efb85f",
   "metadata": {},
   "source": [
    "#### 3. Reduction Operation\n",
    "- can calculate sum, mean, std, var, prod, min, max, median, mode\n"
   ]
  },
  {
   "cell_type": "code",
   "execution_count": 23,
   "id": "75a452e6",
   "metadata": {},
   "outputs": [
    {
     "data": {
      "text/plain": [
       "tensor([[3, 4, 3],\n",
       "        [5, 1, 3]])"
      ]
     },
     "execution_count": 23,
     "metadata": {},
     "output_type": "execute_result"
    }
   ],
   "source": [
    "e = torch.randint(low=1, high=10,size=(2,3))\n",
    "e"
   ]
  },
  {
   "cell_type": "code",
   "execution_count": 24,
   "id": "f7b46f96",
   "metadata": {},
   "outputs": [
    {
     "data": {
      "text/plain": [
       "tensor(19)"
      ]
     },
     "execution_count": 24,
     "metadata": {},
     "output_type": "execute_result"
    }
   ],
   "source": [
    "# can calculate sum, mean, std, var, prod, min, max, median, mode\n",
    "torch.sum(e)   # sum of all elements"
   ]
  },
  {
   "cell_type": "code",
   "execution_count": 25,
   "id": "63bb80d3",
   "metadata": {},
   "outputs": [
    {
     "name": "stdout",
     "output_type": "stream",
     "text": [
      "tensor([8, 5, 6])\n",
      "tensor([10,  9])\n"
     ]
    }
   ],
   "source": [
    "print(torch.sum(e, dim=0)) # sum along the first dimension (columns)\n",
    "print(torch.sum(e, dim=1)) # sum along the second dimension (rows)"
   ]
  },
  {
   "cell_type": "code",
   "execution_count": 27,
   "id": "fb655337",
   "metadata": {},
   "outputs": [
    {
     "name": "stdout",
     "output_type": "stream",
     "text": [
      "tensor(3)\n",
      "tensor(4)\n"
     ]
    }
   ],
   "source": [
    "# argmax, argmin\n",
    "print(torch.argmax(e)) # index of max value along the first dimension (columns)\n",
    "print(torch.argmin(e)) # index of max value along the second dimension (rows)"
   ]
  },
  {
   "cell_type": "markdown",
   "id": "0f709e9a",
   "metadata": {},
   "source": [
    "#### 4. Matrix Operations"
   ]
  },
  {
   "cell_type": "code",
   "execution_count": null,
   "id": "58894159",
   "metadata": {},
   "outputs": [
    {
     "name": "stdout",
     "output_type": "stream",
     "text": [
      "tensor([[5, 8, 5],\n",
      "        [2, 2, 7]])\n",
      "tensor([[8, 2],\n",
      "        [2, 4],\n",
      "        [7, 5]])\n"
     ]
    }
   ],
   "source": [
    "mat1 = torch.randint(low=1, high=10,size=(2,3))\n",
    "mat2 = torch.randint(low=1, high=10,size=(2,3))\n",
    "\n",
    "print(mat1)\n",
    "print(mat2)"
   ]
  },
  {
   "cell_type": "code",
   "execution_count": 31,
   "id": "44f42368",
   "metadata": {},
   "outputs": [
    {
     "data": {
      "text/plain": [
       "tensor([[91, 67],\n",
       "        [69, 47]])"
      ]
     },
     "execution_count": 31,
     "metadata": {},
     "output_type": "execute_result"
    }
   ],
   "source": [
    "# matrix multiplication\n",
    "torch.matmul(mat1, mat2) # matrix multiplication"
   ]
  },
  {
   "cell_type": "code",
   "execution_count": 33,
   "id": "11a4ca8e",
   "metadata": {},
   "outputs": [
    {
     "name": "stdout",
     "output_type": "stream",
     "text": [
      "tensor([[5, 8, 5],\n",
      "        [2, 2, 7]])\n"
     ]
    },
    {
     "data": {
      "text/plain": [
       "tensor([[5, 2],\n",
       "        [8, 2],\n",
       "        [5, 7]])"
      ]
     },
     "execution_count": 33,
     "metadata": {},
     "output_type": "execute_result"
    }
   ],
   "source": [
    "print(mat1) \n",
    "torch.transpose(mat1, 0, 1) # transpose of a matrix"
   ]
  },
  {
   "cell_type": "code",
   "execution_count": null,
   "id": "1f804a7e",
   "metadata": {},
   "outputs": [
    {
     "data": {
      "text/plain": [
       "tensor([[[3, 3],\n",
       "         [7, 7],\n",
       "         [2, 3]],\n",
       "\n",
       "        [[9, 8],\n",
       "         [5, 5],\n",
       "         [5, 4]],\n",
       "\n",
       "        [[4, 5],\n",
       "         [4, 7],\n",
       "         [7, 2]]])"
      ]
     },
     "execution_count": 37,
     "metadata": {},
     "output_type": "execute_result"
    }
   ],
   "source": [
    "mat3 = torch.randint(low=1, high=10,size=(3,2,3))\n",
    "mat3"
   ]
  },
  {
   "cell_type": "code",
   "execution_count": 43,
   "id": "dc112e46",
   "metadata": {},
   "outputs": [
    {
     "data": {
      "text/plain": [
       "tensor([[5., 5., 4.],\n",
       "        [5., 3., 1.],\n",
       "        [6., 3., 2.]])"
      ]
     },
     "execution_count": 43,
     "metadata": {},
     "output_type": "execute_result"
    }
   ],
   "source": [
    "mat4 = torch.randint(low=1, high=10,size=(3,3), dtype=torch.float)\n",
    "mat4"
   ]
  },
  {
   "cell_type": "code",
   "execution_count": 44,
   "id": "7d42f905",
   "metadata": {},
   "outputs": [
    {
     "data": {
      "text/plain": [
       "tensor(-17.0000)"
      ]
     },
     "execution_count": 44,
     "metadata": {},
     "output_type": "execute_result"
    }
   ],
   "source": [
    "torch.det(mat4) # determinant of a matrix"
   ]
  },
  {
   "cell_type": "code",
   "execution_count": 45,
   "id": "5cb8b300",
   "metadata": {},
   "outputs": [
    {
     "data": {
      "text/plain": [
       "tensor([[-0.1765, -0.1176,  0.4118],\n",
       "        [ 0.2353,  0.8235, -0.8824],\n",
       "        [ 0.1765, -0.8824,  0.5882]])"
      ]
     },
     "execution_count": 45,
     "metadata": {},
     "output_type": "execute_result"
    }
   ],
   "source": [
    "torch.inverse(mat4) # inverse of a matrix"
   ]
  },
  {
   "cell_type": "markdown",
   "id": "97daf046",
   "metadata": {},
   "source": [
    "#### 5. Comparison operator\n",
    "- comparison operators like ==, !=, <, <=, >, >=\n"
   ]
  },
  {
   "cell_type": "code",
   "execution_count": 46,
   "id": "5de4666b",
   "metadata": {},
   "outputs": [
    {
     "name": "stdout",
     "output_type": "stream",
     "text": [
      "tensor([[8, 3, 2],\n",
      "        [5, 6, 3]])\n",
      "tensor([[2, 6, 4],\n",
      "        [7, 4, 6]])\n"
     ]
    }
   ],
   "source": [
    "f = torch.randint(low=1, high=10,size=(2,3))\n",
    "g = torch.randint(low=1, high=10,size=(2,3))\n",
    "\n",
    "print(f)\n",
    "print(g)"
   ]
  },
  {
   "cell_type": "code",
   "execution_count": null,
   "id": "e37fe914",
   "metadata": {},
   "outputs": [
    {
     "data": {
      "text/plain": [
       "tensor([[ True, False, False],\n",
       "        [False,  True, False]])"
      ]
     },
     "execution_count": 49,
     "metadata": {},
     "output_type": "execute_result"
    }
   ],
   "source": [
    "f > g # element wise comparison, returns boolean tensor"
   ]
  },
  {
   "cell_type": "markdown",
   "id": "1c138d06",
   "metadata": {},
   "source": [
    "#### 6. Inplace Operations"
   ]
  },
  {
   "cell_type": "code",
   "execution_count": 51,
   "id": "e0b474d3",
   "metadata": {},
   "outputs": [
    {
     "name": "stdout",
     "output_type": "stream",
     "text": [
      "tensor([[0.2601, 0.8615, 0.0575],\n",
      "        [0.9801, 0.4226, 0.6752]])\n",
      "tensor([[0.6946, 0.7677, 0.8738],\n",
      "        [0.3010, 0.6520, 0.5423]])\n"
     ]
    }
   ],
   "source": [
    "m = torch.rand(2, 3)\n",
    "n = torch.rand(2, 3)\n",
    "print(m)\n",
    "print(n)"
   ]
  },
  {
   "cell_type": "code",
   "execution_count": null,
   "id": "4e115c95",
   "metadata": {},
   "outputs": [
    {
     "data": {
      "text/plain": [
       "tensor([[0.9547, 1.6292, 0.9313],\n",
       "        [1.2812, 1.0746, 1.2175]])"
      ]
     },
     "execution_count": 52,
     "metadata": {},
     "output_type": "execute_result"
    }
   ],
   "source": [
    "m + n # occupies new memory"
   ]
  },
  {
   "cell_type": "code",
   "execution_count": 54,
   "id": "86d41ebf",
   "metadata": {},
   "outputs": [
    {
     "name": "stdout",
     "output_type": "stream",
     "text": [
      "tensor([[1.6493, 2.3969, 1.8051],\n",
      "        [1.5822, 1.7265, 1.7598]])\n",
      "tensor([[1.6493, 2.3969, 1.8051],\n",
      "        [1.5822, 1.7265, 1.7598]])\n"
     ]
    }
   ],
   "source": [
    "print(m.add_(n)) # in place addition, modifies m\n",
    "print(m) # m is modified"
   ]
  },
  {
   "cell_type": "markdown",
   "id": "0c2fb94c",
   "metadata": {},
   "source": [
    "## Copying a tensor"
   ]
  },
  {
   "cell_type": "code",
   "execution_count": 55,
   "id": "20e04483",
   "metadata": {},
   "outputs": [
    {
     "data": {
      "text/plain": [
       "tensor([[0.0445, 0.8689, 0.1659],\n",
       "        [0.8595, 0.6564, 0.9739]])"
      ]
     },
     "execution_count": 55,
     "metadata": {},
     "output_type": "execute_result"
    }
   ],
   "source": [
    "h = torch.rand(size = (2,3), dtype=torch.float)\n",
    "h"
   ]
  },
  {
   "cell_type": "code",
   "execution_count": 57,
   "id": "4f95a389",
   "metadata": {},
   "outputs": [
    {
     "data": {
      "text/plain": [
       "tensor([[0.0445, 0.8689, 0.1659],\n",
       "        [0.8595, 0.6564, 0.9739]])"
      ]
     },
     "execution_count": 57,
     "metadata": {},
     "output_type": "execute_result"
    }
   ],
   "source": [
    "j = h.clone() # creates a copy of h\n",
    "j"
   ]
  },
  {
   "cell_type": "code",
   "execution_count": 58,
   "id": "c44c16d6",
   "metadata": {},
   "outputs": [
    {
     "data": {
      "text/plain": [
       "(2017462772960, 2017463721152)"
      ]
     },
     "execution_count": 58,
     "metadata": {},
     "output_type": "execute_result"
    }
   ],
   "source": [
    "id(h), id(j) # different memory locations"
   ]
  },
  {
   "cell_type": "markdown",
   "id": "4db396ca",
   "metadata": {},
   "source": [
    "## Reshaping Tensors"
   ]
  },
  {
   "cell_type": "markdown",
   "id": "9a487130",
   "metadata": {},
   "source": [
    "#### reshape"
   ]
  },
  {
   "cell_type": "code",
   "execution_count": 60,
   "id": "a2c07919",
   "metadata": {},
   "outputs": [
    {
     "data": {
      "text/plain": [
       "tensor([[1., 1., 1., 1.],\n",
       "        [1., 1., 1., 1.],\n",
       "        [1., 1., 1., 1.],\n",
       "        [1., 1., 1., 1.]])"
      ]
     },
     "execution_count": 60,
     "metadata": {},
     "output_type": "execute_result"
    }
   ],
   "source": [
    "a = torch.ones(4,4)\n",
    "a"
   ]
  },
  {
   "cell_type": "code",
   "execution_count": 61,
   "id": "eb8436e3",
   "metadata": {},
   "outputs": [
    {
     "data": {
      "text/plain": [
       "tensor([[1., 1., 1., 1., 1., 1., 1., 1.],\n",
       "        [1., 1., 1., 1., 1., 1., 1., 1.]])"
      ]
     },
     "execution_count": 61,
     "metadata": {},
     "output_type": "execute_result"
    }
   ],
   "source": [
    "a.reshape(2,8) # reshaping a tensor, returns a new tensor with same data but different shape"
   ]
  },
  {
   "cell_type": "markdown",
   "id": "f09c9471",
   "metadata": {},
   "source": [
    "#### flatten"
   ]
  },
  {
   "cell_type": "code",
   "execution_count": 62,
   "id": "b307d301",
   "metadata": {},
   "outputs": [
    {
     "data": {
      "text/plain": [
       "tensor([1., 1., 1., 1., 1., 1., 1., 1., 1., 1., 1., 1., 1., 1., 1., 1.])"
      ]
     },
     "execution_count": 62,
     "metadata": {},
     "output_type": "execute_result"
    }
   ],
   "source": [
    "a.flatten() # flattening a tensor, returns a new tensor with same data but different shape"
   ]
  },
  {
   "cell_type": "markdown",
   "id": "01d7c6b9",
   "metadata": {},
   "source": [
    "#### permute"
   ]
  },
  {
   "cell_type": "code",
   "execution_count": 64,
   "id": "bcac18a5",
   "metadata": {},
   "outputs": [
    {
     "data": {
      "text/plain": [
       "tensor([[[0.7281, 0.1379, 0.5649, 0.3913],\n",
       "         [0.5805, 0.6060, 0.6758, 0.0688],\n",
       "         [0.0523, 0.0975, 0.9035, 0.4328]],\n",
       "\n",
       "        [[0.2531, 0.3924, 0.0313, 0.4198],\n",
       "         [0.4490, 0.7533, 0.6440, 0.7593],\n",
       "         [0.1203, 0.7548, 0.6511, 0.9365]]])"
      ]
     },
     "execution_count": 64,
     "metadata": {},
     "output_type": "execute_result"
    }
   ],
   "source": [
    "b = torch.rand(2, 3, 4)\n",
    "b"
   ]
  },
  {
   "cell_type": "code",
   "execution_count": null,
   "id": "8ab46c7e",
   "metadata": {},
   "outputs": [
    {
     "name": "stdout",
     "output_type": "stream",
     "text": [
      "tensor([[[0.7281, 0.5805, 0.0523],\n",
      "         [0.2531, 0.4490, 0.1203]],\n",
      "\n",
      "        [[0.1379, 0.6060, 0.0975],\n",
      "         [0.3924, 0.7533, 0.7548]],\n",
      "\n",
      "        [[0.5649, 0.6758, 0.9035],\n",
      "         [0.0313, 0.6440, 0.6511]],\n",
      "\n",
      "        [[0.3913, 0.0688, 0.4328],\n",
      "         [0.4198, 0.7593, 0.9365]]])\n",
      "torch.Size([4, 2, 3])\n"
     ]
    }
   ],
   "source": [
    "print(b.permute(2, 0, 1))# permuting the dimensions of a tensor, returns a new tensor with same data but different shape\n",
    "\n",
    "print(b.permute(2, 0, 1).shape) # shape of the permuted tensor"
   ]
  },
  {
   "cell_type": "markdown",
   "id": "8f9b456c",
   "metadata": {},
   "source": [
    "#### unsqeeze"
   ]
  },
  {
   "cell_type": "code",
   "execution_count": null,
   "id": "0e973f9c",
   "metadata": {},
   "outputs": [
    {
     "data": {
      "text/plain": [
       "torch.Size([226, 226, 1, 3])"
      ]
     },
     "execution_count": 71,
     "metadata": {},
     "output_type": "execute_result"
    }
   ],
   "source": [
    "c = torch.rand(226, 226, 3)\n",
    "\n",
    "# adding a new dimension at index 2, returns a new tensor with same data but different shape\n",
    "c.unsqueeze(2).shape"
   ]
  }
 ],
 "metadata": {
  "kernelspec": {
   "display_name": "pytorch",
   "language": "python",
   "name": "python3"
  },
  "language_info": {
   "codemirror_mode": {
    "name": "ipython",
    "version": 3
   },
   "file_extension": ".py",
   "mimetype": "text/x-python",
   "name": "python",
   "nbconvert_exporter": "python",
   "pygments_lexer": "ipython3",
   "version": "3.13.3"
  }
 },
 "nbformat": 4,
 "nbformat_minor": 5
}
