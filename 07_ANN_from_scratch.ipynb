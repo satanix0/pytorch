{
 "cells": [
  {
   "cell_type": "markdown",
   "id": "d6c68995",
   "metadata": {},
   "source": [
    "### ANN from Scratch, using GPU"
   ]
  },
  {
   "cell_type": "code",
   "execution_count": 41,
   "id": "a56ae059",
   "metadata": {},
   "outputs": [],
   "source": [
    "import torch\n",
    "import pandas as pd\n",
    "from sklearn.model_selection import train_test_split\n",
    "from torch.utils.data import Dataset, DataLoader\n",
    "import torch.nn as nn\n",
    "import torch.optim as optim\n",
    "import matplotlib.pyplot as plt\n",
    "import numpy as np"
   ]
  },
  {
   "cell_type": "markdown",
   "id": "79d41eea",
   "metadata": {},
   "source": [
    "#### Steps to train and test the Model using the GPU\n",
    "- Check for GPU Availability\n",
    "- Move the Model to GPU\n",
    "- Modify the training loop by moving the training data to GPU\n",
    "- Modify the Evaluation loop by moving the training data to GPU"
   ]
  },
  {
   "cell_type": "markdown",
   "id": "5b687dc9",
   "metadata": {},
   "source": [
    "#### Check for GPU Availability"
   ]
  },
  {
   "cell_type": "code",
   "execution_count": 42,
   "id": "2c68bdfc",
   "metadata": {},
   "outputs": [
    {
     "name": "stdout",
     "output_type": "stream",
     "text": [
      "cuda\n"
     ]
    }
   ],
   "source": [
    "# Check fr GPU\n",
    "device =torch.device('cuda' if torch.cuda.is_available() else 'cpu')\n",
    "print(device)"
   ]
  },
  {
   "cell_type": "code",
   "execution_count": 43,
   "id": "74fda8c0",
   "metadata": {},
   "outputs": [],
   "source": [
    "# torch.manual_seed(42)"
   ]
  },
  {
   "cell_type": "code",
   "execution_count": 44,
   "id": "319ccde1",
   "metadata": {},
   "outputs": [
    {
     "data": {
      "text/html": [
       "<div>\n",
       "<style scoped>\n",
       "    .dataframe tbody tr th:only-of-type {\n",
       "        vertical-align: middle;\n",
       "    }\n",
       "\n",
       "    .dataframe tbody tr th {\n",
       "        vertical-align: top;\n",
       "    }\n",
       "\n",
       "    .dataframe thead th {\n",
       "        text-align: right;\n",
       "    }\n",
       "</style>\n",
       "<table border=\"1\" class=\"dataframe\">\n",
       "  <thead>\n",
       "    <tr style=\"text-align: right;\">\n",
       "      <th></th>\n",
       "      <th>label</th>\n",
       "      <th>pixel1</th>\n",
       "      <th>pixel2</th>\n",
       "      <th>pixel3</th>\n",
       "      <th>pixel4</th>\n",
       "      <th>pixel5</th>\n",
       "      <th>pixel6</th>\n",
       "      <th>pixel7</th>\n",
       "      <th>pixel8</th>\n",
       "      <th>pixel9</th>\n",
       "      <th>...</th>\n",
       "      <th>pixel775</th>\n",
       "      <th>pixel776</th>\n",
       "      <th>pixel777</th>\n",
       "      <th>pixel778</th>\n",
       "      <th>pixel779</th>\n",
       "      <th>pixel780</th>\n",
       "      <th>pixel781</th>\n",
       "      <th>pixel782</th>\n",
       "      <th>pixel783</th>\n",
       "      <th>pixel784</th>\n",
       "    </tr>\n",
       "  </thead>\n",
       "  <tbody>\n",
       "    <tr>\n",
       "      <th>0</th>\n",
       "      <td>9</td>\n",
       "      <td>0</td>\n",
       "      <td>0</td>\n",
       "      <td>0</td>\n",
       "      <td>0</td>\n",
       "      <td>0</td>\n",
       "      <td>0</td>\n",
       "      <td>0</td>\n",
       "      <td>0</td>\n",
       "      <td>0</td>\n",
       "      <td>...</td>\n",
       "      <td>0</td>\n",
       "      <td>7</td>\n",
       "      <td>0</td>\n",
       "      <td>50</td>\n",
       "      <td>205</td>\n",
       "      <td>196</td>\n",
       "      <td>213</td>\n",
       "      <td>165</td>\n",
       "      <td>0</td>\n",
       "      <td>0</td>\n",
       "    </tr>\n",
       "    <tr>\n",
       "      <th>1</th>\n",
       "      <td>7</td>\n",
       "      <td>0</td>\n",
       "      <td>0</td>\n",
       "      <td>0</td>\n",
       "      <td>0</td>\n",
       "      <td>0</td>\n",
       "      <td>0</td>\n",
       "      <td>0</td>\n",
       "      <td>0</td>\n",
       "      <td>0</td>\n",
       "      <td>...</td>\n",
       "      <td>0</td>\n",
       "      <td>0</td>\n",
       "      <td>0</td>\n",
       "      <td>0</td>\n",
       "      <td>0</td>\n",
       "      <td>0</td>\n",
       "      <td>0</td>\n",
       "      <td>0</td>\n",
       "      <td>0</td>\n",
       "      <td>0</td>\n",
       "    </tr>\n",
       "    <tr>\n",
       "      <th>2</th>\n",
       "      <td>0</td>\n",
       "      <td>0</td>\n",
       "      <td>0</td>\n",
       "      <td>0</td>\n",
       "      <td>0</td>\n",
       "      <td>0</td>\n",
       "      <td>1</td>\n",
       "      <td>0</td>\n",
       "      <td>0</td>\n",
       "      <td>0</td>\n",
       "      <td>...</td>\n",
       "      <td>142</td>\n",
       "      <td>142</td>\n",
       "      <td>142</td>\n",
       "      <td>21</td>\n",
       "      <td>0</td>\n",
       "      <td>3</td>\n",
       "      <td>0</td>\n",
       "      <td>0</td>\n",
       "      <td>0</td>\n",
       "      <td>0</td>\n",
       "    </tr>\n",
       "    <tr>\n",
       "      <th>3</th>\n",
       "      <td>8</td>\n",
       "      <td>0</td>\n",
       "      <td>0</td>\n",
       "      <td>0</td>\n",
       "      <td>0</td>\n",
       "      <td>0</td>\n",
       "      <td>0</td>\n",
       "      <td>0</td>\n",
       "      <td>0</td>\n",
       "      <td>0</td>\n",
       "      <td>...</td>\n",
       "      <td>0</td>\n",
       "      <td>0</td>\n",
       "      <td>0</td>\n",
       "      <td>0</td>\n",
       "      <td>0</td>\n",
       "      <td>0</td>\n",
       "      <td>0</td>\n",
       "      <td>0</td>\n",
       "      <td>0</td>\n",
       "      <td>0</td>\n",
       "    </tr>\n",
       "    <tr>\n",
       "      <th>4</th>\n",
       "      <td>8</td>\n",
       "      <td>0</td>\n",
       "      <td>0</td>\n",
       "      <td>0</td>\n",
       "      <td>0</td>\n",
       "      <td>0</td>\n",
       "      <td>0</td>\n",
       "      <td>0</td>\n",
       "      <td>0</td>\n",
       "      <td>0</td>\n",
       "      <td>...</td>\n",
       "      <td>213</td>\n",
       "      <td>203</td>\n",
       "      <td>174</td>\n",
       "      <td>151</td>\n",
       "      <td>188</td>\n",
       "      <td>10</td>\n",
       "      <td>0</td>\n",
       "      <td>0</td>\n",
       "      <td>0</td>\n",
       "      <td>0</td>\n",
       "    </tr>\n",
       "  </tbody>\n",
       "</table>\n",
       "<p>5 rows × 785 columns</p>\n",
       "</div>"
      ],
      "text/plain": [
       "   label  pixel1  pixel2  pixel3  pixel4  pixel5  pixel6  pixel7  pixel8  \\\n",
       "0      9       0       0       0       0       0       0       0       0   \n",
       "1      7       0       0       0       0       0       0       0       0   \n",
       "2      0       0       0       0       0       0       1       0       0   \n",
       "3      8       0       0       0       0       0       0       0       0   \n",
       "4      8       0       0       0       0       0       0       0       0   \n",
       "\n",
       "   pixel9  ...  pixel775  pixel776  pixel777  pixel778  pixel779  pixel780  \\\n",
       "0       0  ...         0         7         0        50       205       196   \n",
       "1       0  ...         0         0         0         0         0         0   \n",
       "2       0  ...       142       142       142        21         0         3   \n",
       "3       0  ...         0         0         0         0         0         0   \n",
       "4       0  ...       213       203       174       151       188        10   \n",
       "\n",
       "   pixel781  pixel782  pixel783  pixel784  \n",
       "0       213       165         0         0  \n",
       "1         0         0         0         0  \n",
       "2         0         0         0         0  \n",
       "3         0         0         0         0  \n",
       "4         0         0         0         0  \n",
       "\n",
       "[5 rows x 785 columns]"
      ]
     },
     "execution_count": 44,
     "metadata": {},
     "output_type": "execute_result"
    }
   ],
   "source": [
    "df = pd.read_csv('data//fmnist_small.csv')\n",
    "df.head()"
   ]
  },
  {
   "cell_type": "code",
   "execution_count": 45,
   "id": "b75c83f9",
   "metadata": {},
   "outputs": [
    {
     "data": {
      "text/plain": [
       "(6000, 785)"
      ]
     },
     "execution_count": 45,
     "metadata": {},
     "output_type": "execute_result"
    }
   ],
   "source": [
    "df.shape"
   ]
  },
  {
   "cell_type": "code",
   "execution_count": 46,
   "id": "b8430402",
   "metadata": {},
   "outputs": [
    {
     "data": {
      "image/png": "[encoded data removed]",
      "text/plain": [
       "<Figure size 1000x1000 with 9 Axes>"
      ]
     },
     "metadata": {},
     "output_type": "display_data"
    }
   ],
   "source": [
    "fig, axes = plt.subplots(3, 3, figsize=(10, 10))\n",
    "fig.suptitle('Sample Images from Fashion MNIST', fontsize=16)\n",
    "for i, ax in enumerate(axes.flat):\n",
    "    ax.imshow(df.iloc[i, 1:].values.reshape(28, 28))\n",
    "    ax.set_title(f\"Label: {df.iloc[i, 0]}\")\n",
    "    ax.axis('off')\n",
    "\n",
    "plt.tight_layout(rect=[0, 0, 1, 0.96])\n",
    "plt.show()"
   ]
  },
  {
   "cell_type": "code",
   "execution_count": 47,
   "id": "ad555e32",
   "metadata": {},
   "outputs": [],
   "source": [
    "# train_test Split\n",
    "\n",
    "X = df.iloc[:, 1:].values\n",
    "y = df.iloc[:, 0].values\n",
    "\n",
    "X_train, X_test, y_train, y_test = train_test_split(\n",
    "    X, y, test_size=0.2, random_state=42)"
   ]
  },
  {
   "cell_type": "code",
   "execution_count": 48,
   "id": "4f221cfa",
   "metadata": {},
   "outputs": [
    {
     "data": {
      "text/plain": [
       "((4800, 784), (1200, 784), (4800,), (1200,))"
      ]
     },
     "execution_count": 48,
     "metadata": {},
     "output_type": "execute_result"
    }
   ],
   "source": [
    "X_train.shape, X_test.shape, y_train.shape, y_test.shape"
   ]
  },
  {
   "cell_type": "code",
   "execution_count": 49,
   "id": "0ec39998",
   "metadata": {},
   "outputs": [],
   "source": [
    "# Scaling is done by dividing each pixel value in `X_train` and `X_test` by 255.0.\n",
    "# Since the original pixel values range from 0 to 255, this operation transforms all values to the range [0, 1].\n",
    "# This normalization helps neural networks train more efficiently by keeping input values within a consistent range.\n",
    "X_train = X_train / 255.0\n",
    "X_test = X_test / 255.0"
   ]
  },
  {
   "cell_type": "markdown",
   "id": "4fe80af9",
   "metadata": {},
   "source": [
    "#### Custom Dataset"
   ]
  },
  {
   "cell_type": "code",
   "execution_count": 50,
   "id": "ef195589",
   "metadata": {},
   "outputs": [],
   "source": [
    "# CustomDataset is a subclass of Dataset\n",
    "class CustomDataset(Dataset):\n",
    "    def __init__(self, X, y):\n",
    "        self.X = torch.tensor(X, dtype=torch.float32)\n",
    "        self.y = torch.tensor(y, dtype=torch.long)\n",
    "\n",
    "    def __len__(self):\n",
    "        return self.X.shape[0]\n",
    "\n",
    "    def __getitem__(self, idx):\n",
    "        return self.X[idx], self.y[idx]"
   ]
  },
  {
   "cell_type": "code",
   "execution_count": 51,
   "id": "0399b336",
   "metadata": {},
   "outputs": [
    {
     "data": {
      "text/plain": [
       "(4800, 1200)"
      ]
     },
     "execution_count": 51,
     "metadata": {},
     "output_type": "execute_result"
    }
   ],
   "source": [
    "# Load the dataset\n",
    "train_dataset = CustomDataset(X_train, y_train)\n",
    "test_dataset = CustomDataset(X_test, y_test)\n",
    "\n",
    "len(train_dataset), len(test_dataset)"
   ]
  },
  {
   "cell_type": "markdown",
   "id": "f85dc773",
   "metadata": {},
   "source": [
    "#### Loading Data"
   ]
  },
  {
   "cell_type": "code",
   "execution_count": 52,
   "id": "e37752f5",
   "metadata": {},
   "outputs": [],
   "source": [
    "# Create DataLoader objects for training and test datasets.\n",
    "train_loader = DataLoader(train_dataset, batch_size=32, shuffle=True)\n",
    "test_loader = DataLoader(test_dataset, batch_size=32, shuffle=False)"
   ]
  },
  {
   "cell_type": "markdown",
   "id": "4a3cfbe2",
   "metadata": {},
   "source": [
    "#### Define the Model"
   ]
  },
  {
   "cell_type": "code",
   "execution_count": 53,
   "id": "0a50e122",
   "metadata": {},
   "outputs": [],
   "source": [
    "class SimpleANN(nn.Module):\n",
    "    def __init__(self, num_features):\n",
    "        super().__init__()\n",
    "        self.model = nn.Sequential(\n",
    "            nn.Linear(num_features, 128),  # Input layer\n",
    "            nn.ReLU(),              # Activation function\n",
    "            nn.Linear(128, 64),     # Hidden layer\n",
    "            nn.ReLU(),              # Activation function\n",
    "            nn.Linear(64, 10)       # Output layer\n",
    "        )\n",
    "\n",
    "    def forward(self, X):\n",
    "        return self.model(X)"
   ]
  },
  {
   "cell_type": "code",
   "execution_count": 54,
   "id": "1bdca035",
   "metadata": {},
   "outputs": [],
   "source": [
    "learning_rate = 0.1\n",
    "num_epochs = 100"
   ]
  },
  {
   "cell_type": "code",
   "execution_count": 55,
   "id": "c472fd57",
   "metadata": {},
   "outputs": [],
   "source": [
    "model = SimpleANN(num_features=X_train.shape[1])\n",
    "model = model.to(device)  # Move model to GPU if available\n",
    "\n",
    "# Loss function\n",
    "criterion = nn.CrossEntropyLoss()\n",
    "# Optimizer\n",
    "optimizer = optim.SGD(model.parameters(), lr=0.001)"
   ]
  },
  {
   "cell_type": "code",
   "execution_count": 56,
   "id": "0cb2c81f",
   "metadata": {},
   "outputs": [
    {
     "name": "stdout",
     "output_type": "stream",
     "text": [
      "Epoch 1/100, Loss: 2.2943\n",
      "Epoch 2/100, Loss: 2.2811\n",
      "Epoch 3/100, Loss: 2.2676\n",
      "Epoch 4/100, Loss: 2.2537\n",
      "Epoch 5/100, Loss: 2.2394\n",
      "Epoch 6/100, Loss: 2.2244\n",
      "Epoch 7/100, Loss: 2.2082\n",
      "Epoch 8/100, Loss: 2.1903\n",
      "Epoch 9/100, Loss: 2.1705\n",
      "Epoch 10/100, Loss: 2.1483\n",
      "Epoch 11/100, Loss: 2.1238\n",
      "Epoch 12/100, Loss: 2.0964\n",
      "Epoch 13/100, Loss: 2.0657\n",
      "Epoch 14/100, Loss: 2.0319\n",
      "Epoch 15/100, Loss: 1.9946\n",
      "Epoch 16/100, Loss: 1.9536\n",
      "Epoch 17/100, Loss: 1.9089\n",
      "Epoch 18/100, Loss: 1.8606\n",
      "Epoch 19/100, Loss: 1.8094\n",
      "Epoch 20/100, Loss: 1.7562\n",
      "Epoch 21/100, Loss: 1.7021\n",
      "Epoch 22/100, Loss: 1.6484\n",
      "Epoch 23/100, Loss: 1.5959\n",
      "Epoch 24/100, Loss: 1.5456\n",
      "Epoch 25/100, Loss: 1.4980\n",
      "Epoch 26/100, Loss: 1.4535\n",
      "Epoch 27/100, Loss: 1.4123\n",
      "Epoch 28/100, Loss: 1.3741\n",
      "Epoch 29/100, Loss: 1.3390\n",
      "Epoch 30/100, Loss: 1.3065\n",
      "Epoch 31/100, Loss: 1.2763\n",
      "Epoch 32/100, Loss: 1.2487\n",
      "Epoch 33/100, Loss: 1.2226\n",
      "Epoch 34/100, Loss: 1.1990\n",
      "Epoch 35/100, Loss: 1.1764\n",
      "Epoch 36/100, Loss: 1.1552\n",
      "Epoch 37/100, Loss: 1.1357\n",
      "Epoch 38/100, Loss: 1.1173\n",
      "Epoch 39/100, Loss: 1.0998\n",
      "Epoch 40/100, Loss: 1.0831\n",
      "Epoch 41/100, Loss: 1.0678\n",
      "Epoch 42/100, Loss: 1.0533\n",
      "Epoch 43/100, Loss: 1.0395\n",
      "Epoch 44/100, Loss: 1.0261\n",
      "Epoch 45/100, Loss: 1.0133\n",
      "Epoch 46/100, Loss: 1.0014\n",
      "Epoch 47/100, Loss: 0.9901\n",
      "Epoch 48/100, Loss: 0.9792\n",
      "Epoch 49/100, Loss: 0.9686\n",
      "Epoch 50/100, Loss: 0.9589\n",
      "Epoch 51/100, Loss: 0.9494\n",
      "Epoch 52/100, Loss: 0.9398\n",
      "Epoch 53/100, Loss: 0.9311\n",
      "Epoch 54/100, Loss: 0.9230\n",
      "Epoch 55/100, Loss: 0.9149\n",
      "Epoch 56/100, Loss: 0.9067\n",
      "Epoch 57/100, Loss: 0.8995\n",
      "Epoch 58/100, Loss: 0.8922\n",
      "Epoch 59/100, Loss: 0.8853\n",
      "Epoch 60/100, Loss: 0.8784\n",
      "Epoch 61/100, Loss: 0.8725\n",
      "Epoch 62/100, Loss: 0.8660\n",
      "Epoch 63/100, Loss: 0.8597\n",
      "Epoch 64/100, Loss: 0.8538\n",
      "Epoch 65/100, Loss: 0.8483\n",
      "Epoch 66/100, Loss: 0.8433\n",
      "Epoch 67/100, Loss: 0.8379\n",
      "Epoch 68/100, Loss: 0.8327\n",
      "Epoch 69/100, Loss: 0.8277\n",
      "Epoch 70/100, Loss: 0.8226\n",
      "Epoch 71/100, Loss: 0.8184\n",
      "Epoch 72/100, Loss: 0.8139\n",
      "Epoch 73/100, Loss: 0.8092\n",
      "Epoch 74/100, Loss: 0.8051\n",
      "Epoch 75/100, Loss: 0.8008\n",
      "Epoch 76/100, Loss: 0.7966\n",
      "Epoch 77/100, Loss: 0.7926\n",
      "Epoch 78/100, Loss: 0.7890\n",
      "Epoch 79/100, Loss: 0.7851\n",
      "Epoch 80/100, Loss: 0.7806\n",
      "Epoch 81/100, Loss: 0.7778\n",
      "Epoch 82/100, Loss: 0.7742\n",
      "Epoch 83/100, Loss: 0.7711\n",
      "Epoch 84/100, Loss: 0.7672\n",
      "Epoch 85/100, Loss: 0.7645\n",
      "Epoch 86/100, Loss: 0.7615\n",
      "Epoch 87/100, Loss: 0.7586\n",
      "Epoch 88/100, Loss: 0.7554\n",
      "Epoch 89/100, Loss: 0.7518\n",
      "Epoch 90/100, Loss: 0.7486\n",
      "Epoch 91/100, Loss: 0.7462\n",
      "Epoch 92/100, Loss: 0.7432\n",
      "Epoch 93/100, Loss: 0.7405\n",
      "Epoch 94/100, Loss: 0.7375\n",
      "Epoch 95/100, Loss: 0.7346\n",
      "Epoch 96/100, Loss: 0.7322\n",
      "Epoch 97/100, Loss: 0.7290\n",
      "Epoch 98/100, Loss: 0.7267\n",
      "Epoch 99/100, Loss: 0.7242\n",
      "Epoch 100/100, Loss: 0.7217\n"
     ]
    }
   ],
   "source": [
    "for epoch in range(num_epochs):\n",
    "    total_epoch_loss = 0\n",
    "    for batch_features, batch_labels in train_loader:\n",
    "        \n",
    "        # Move batch data to GPU if available\n",
    "        batch_features = batch_features.to(device)\n",
    "        batch_labels = batch_labels.to(device)\n",
    "        \n",
    "        # forward pass\n",
    "        y_pred = model(batch_features)\n",
    "\n",
    "        # compute loss\n",
    "        loss = criterion(y_pred, batch_labels)\n",
    "\n",
    "        # backward pass\n",
    "        optimizer.zero_grad()  # clear previous gradients\n",
    "        loss.backward()\n",
    "\n",
    "        # update weights\n",
    "        optimizer.step()\n",
    "\n",
    "        # accumulate loss\n",
    "        # The loss.item() method retrieves the scalar value of the loss tensor.\n",
    "        total_epoch_loss += loss.item()\n",
    "    avg_loss = total_epoch_loss / len(train_loader)\n",
    "    print(f\"Epoch {epoch+1}/{num_epochs}, Loss: {avg_loss:.4f}\")"
   ]
  },
  {
   "cell_type": "markdown",
   "id": "53973f4d",
   "metadata": {},
   "source": [
    "#### Model Eval"
   ]
  },
  {
   "cell_type": "code",
   "execution_count": 57,
   "id": "124d1354",
   "metadata": {},
   "outputs": [
    {
     "data": {
      "text/plain": [
       "SimpleANN(\n",
       "  (model): Sequential(\n",
       "    (0): Linear(in_features=784, out_features=128, bias=True)\n",
       "    (1): ReLU()\n",
       "    (2): Linear(in_features=128, out_features=64, bias=True)\n",
       "    (3): ReLU()\n",
       "    (4): Linear(in_features=64, out_features=10, bias=True)\n",
       "  )\n",
       ")"
      ]
     },
     "execution_count": 57,
     "metadata": {},
     "output_type": "execute_result"
    }
   ],
   "source": [
    "# set model to eval mode\n",
    "model.eval()"
   ]
  },
  {
   "cell_type": "code",
   "execution_count": 58,
   "id": "a26e9799",
   "metadata": {},
   "outputs": [
    {
     "name": "stdout",
     "output_type": "stream",
     "text": [
      "892 1200 0.7433333333333333\n"
     ]
    }
   ],
   "source": [
    "# Evaluation Code\n",
    "total = 0 \n",
    "correct = 0\n",
    "\n",
    "# Evaluate model accuracy on test set using DataLoader\n",
    "with torch.no_grad():\n",
    "    for batch_features, batch_labels in test_loader:\n",
    "        # Move batch data to GPU if available\n",
    "        batch_features = batch_features.to(device)\n",
    "        batch_labels = batch_labels.to(device)\n",
    "        \n",
    "        # Get model predictions for the batch\n",
    "        y_pred = model(batch_features)\n",
    "        # Get predicted class by taking the argmax\n",
    "        predicted_class = torch.argmax(y_pred, dim=1) # Get the index of the maximum value in each row\n",
    "        # Update total number of samples\n",
    "        total += batch_labels.shape[0]\n",
    "        # Update correct predictions count\n",
    "        correct += (predicted_class == batch_labels).sum().item()\n",
    "        \n",
    "accuracy = correct / total\n",
    "accuracy\n",
    "print(correct, total, accuracy)"
   ]
  },
  {
   "cell_type": "code",
   "execution_count": 59,
   "id": "70e3dd09",
   "metadata": {},
   "outputs": [
    {
     "data": {
      "text/plain": [
       "38"
      ]
     },
     "execution_count": 59,
     "metadata": {},
     "output_type": "execute_result"
    }
   ],
   "source": [
    "len(test_loader)"
   ]
  },
  {
   "cell_type": "code",
   "execution_count": null,
   "id": "5bf73dc9",
   "metadata": {},
   "outputs": [],
   "source": []
  }
 ],
 "metadata": {
  "kernelspec": {
   "display_name": "pytorch",
   "language": "python",
   "name": "python3"
  },
  "language_info": {
   "codemirror_mode": {
    "name": "ipython",
    "version": 3
   },
   "file_extension": ".py",
   "mimetype": "text/x-python",
   "name": "python",
   "nbconvert_exporter": "python",
   "pygments_lexer": "ipython3",
   "version": "3.13.3"
  }
 },
 "nbformat": 4,
 "nbformat_minor": 5
}
